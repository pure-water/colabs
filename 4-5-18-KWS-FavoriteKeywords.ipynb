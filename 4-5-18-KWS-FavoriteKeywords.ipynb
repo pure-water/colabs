{
  "nbformat": 4,
  "nbformat_minor": 0,
  "metadata": {
    "colab": {
      "name": "4-5-18-KWS-FavoriteKeywords.ipynb",
      "provenance": [],
      "collapsed_sections": [],
      "toc_visible": true
    },
    "kernelspec": {
      "name": "python3",
      "display_name": "Python 3"
    },
    "accelerator": "GPU"
  },
  "cells": [
    {
      "cell_type": "markdown",
      "metadata": {
        "id": "pO4-CY_TCZZS"
      },
      "source": [
        "# Generate the Model For Your Favorite Keywords (from Course 2)\n",
        "This notebook builds on the [Course 2 Colab](https://colab.research.google.com/github/tinyMLx/colabs/blob/master/3-5-18-TrainingKeywordSpotting.ipynb) in which you trained your own KWS TFLite file. In this Colab you will convert that TFLite file into a TFLite Micro file which can be uploaded to your microcontroller using the Arduino IDE."
      ]
    },
    {
      "cell_type": "markdown",
      "metadata": {
        "id": "0oc-U-G9N9Du"
      },
      "source": [
        "### Load the Tensorflow Lite model\n",
        "You can either upload your own model from Course 2 by running the ```upload``` cell below, or you can run the ```!wget``` cell to dowload the staff's custom model from Course 2 which uses the words: \"up,down,go.\""
      ]
    },
    {
      "cell_type": "code",
      "metadata": {
        "id": "vaXMSKJaipKT"
      },
      "source": [
        "from google.colab import files\r\n",
        "uploaded = files.upload()"
      ],
      "execution_count": null,
      "outputs": []
    },
    {
      "cell_type": "code",
      "metadata": {
        "id": "h1Qkm4riNP93"
      },
      "source": [
        "!wget --no-check-certificate --content-disposition https://github.com/tinyMLx/colabs/blob/master/KWS_favorite.tflite?raw=true"
      ],
      "execution_count": null,
      "outputs": []
    },
    {
      "cell_type": "markdown",
      "metadata": {
        "id": "snF9dxLqHrBG"
      },
      "source": [
        "### Generate a TensorFlow Lite for Microcontrollers Model\n",
        "To convert the TensorFlow Lite quantized model into a C source file that can be loaded by TensorFlow Lite for Microcontrollers on Arduino we simply need to use the ```xxd``` tool to convert the ```.tflite``` file into a ```.cc``` file. **Note: if the file you uploaded is not called ```KWS_favorite.tflite``` make sure to either rename it or update the ```MODEL_TFLITE``` variable below.**"
      ]
    },
    {
      "cell_type": "code",
      "metadata": {
        "id": "67dMKBYRHxJo"
      },
      "source": [
        "!apt-get update && apt-get -qq install xxd"
      ],
      "execution_count": null,
      "outputs": []
    },
    {
      "cell_type": "code",
      "metadata": {
        "id": "IE8oSOlkH5cn"
      },
      "source": [
        "MODEL_TFLITE = 'KWS_favorite.tflite'\n",
        "MODEL_TFLITE_MICRO = 'KWS_favorite.cc'\n",
        "!xxd -i {MODEL_TFLITE} > {MODEL_TFLITE_MICRO}\n",
        "REPLACE_TEXT = MODEL_TFLITE.replace('/', '_').replace('.', '_')\n",
        "!sed -i 's/'{REPLACE_TEXT}'/g_model/g' {MODEL_TFLITE_MICRO}"
      ],
      "execution_count": null,
      "outputs": []
    },
    {
      "cell_type": "markdown",
      "metadata": {
        "id": "mz0OhkYcFzB2"
      },
      "source": [
        "That's it! You've successfully converted your TensorFlow Lite model into a TensorFlow Lite for Microcontrollers model! Run the cell below to print out its contents which we'll need for our next step, deploying the model using the Arudino IDE! **So don't close this Colab as we'll use the model printout in the next step of the deployment to the Arduino IDE!**"
      ]
    },
    {
      "cell_type": "code",
      "metadata": {
        "id": "OeS3iHhlt7LX"
      },
      "source": [
        "!cat {MODEL_TFLITE_MICRO}"
      ],
      "execution_count": null,
      "outputs": []
    },
    {
      "cell_type": "markdown",
      "metadata": {
        "id": "vPzzMMXGIPg6"
      },
      "source": [
        "If you'd like to download your model for safekeeping:\n",
        "1. On the left of the UI click on the folder icon\n",
        "2. Click on the three dots to the right of the ```KWS_favorite.cc``` file and select download"
      ]
    }
  ]
}