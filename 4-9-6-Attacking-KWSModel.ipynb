{
  "nbformat": 4,
  "nbformat_minor": 0,
  "metadata": {
    "colab": {
      "name": "4-9-6-Attacking-KWSModel.ipynb",
      "provenance": [],
      "collapsed_sections": [],
      "toc_visible": true
    },
    "kernelspec": {
      "name": "python3",
      "display_name": "Python 3"
    },
    "accelerator": "GPU"
  },
  "cells": [
    {
      "cell_type": "markdown",
      "metadata": {
        "id": "pO4-CY_TCZZS"
      },
      "source": [
        "# Attacking the Pretrained KWS Model\n",
        "This notebook uses the pre-trained [micro_speech](https://github.com/tensorflow/tensorflow/tree/master/tensorflow/lite/micro/examples/micro_speech) example for [TensorFlow Lite for MicroControllers](https://www.tensorflow.org/lite/microcontrollers/overview) 20 kB [Simple Audio Recognition](https://www.tensorflow.org/tutorials/sequences/audio_recognition) model and tricks it by playing malicious static sounding audio that triggers the model for \"yes.\""
      ]
    },
    {
      "cell_type": "markdown",
      "metadata": {
        "id": "0oc-U-G9N9Du"
      },
      "source": [
        "### Load the pretrained Tensorflow Lite for Microcontrollers model\n",
        "In case you modifed the default model file, simply run the below cell to dowload the staff's copy!"
      ]
    },
    {
      "cell_type": "code",
      "metadata": {
        "id": "h1Qkm4riNP93"
      },
      "source": [
        "!wget --no-check-certificate --content-disposition https://github.com/tinyMLx/colabs/blob/master/KWS_yes_no.cc?raw=true"
      ],
      "execution_count": null,
      "outputs": []
    },
    {
      "cell_type": "code",
      "metadata": {
        "id": "J6rLi_VpY-T_"
      },
      "source": [
        "# print out the model contents\r\n",
        "cat 'KWS_yes_no.cc'"
      ],
      "execution_count": null,
      "outputs": []
    },
    {
      "cell_type": "markdown",
      "metadata": {
        "id": "vPzzMMXGIPg6"
      },
      "source": [
        "To download the model:\n",
        "1. On the left of the UI click on the folder icon\n",
        "2. Click on the three dots to the right of the ```KWS_yes_no.cc``` file and select download"
      ]
    },
    {
      "cell_type": "markdown",
      "metadata": {
        "id": "jye8DlzEwBwK"
      },
      "source": [
        "### Deploy the model\n",
        "Go back to the KWS pre-trained model deployment reading. Follow the steps to deploy the application to your Arduino -- make sure to use the above model file if you modified the default example."
      ]
    },
    {
      "cell_type": "markdown",
      "metadata": {
        "id": "aY2qgPDiwU2Y"
      },
      "source": [
        "### Attacking the Model\n",
        "First test the model by saying \"yes\" and \"no\" and make sure that it is working. Next play the audio clip below to see the static trigger a \"yes.\""
      ]
    },
    {
      "cell_type": "code",
      "metadata": {
        "id": "s7lGxqCmwev7"
      },
      "source": [
        "from IPython.display import HTML, Audio\n",
        "from scipy.io import wavfile\n",
        "!wget --no-check-certificate --content-disposition https://github.com/tinyMLx/colabs/blob/master/attack.wav?raw=true\n",
        "sr_attack, audio_attack = wavfile.read('attack.wav')\n",
        "Audio(audio_attack, rate=sr_attack)"
      ],
      "execution_count": null,
      "outputs": []
    }
  ]
}